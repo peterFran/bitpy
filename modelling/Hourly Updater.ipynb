{
 "cells": [
  {
   "cell_type": "markdown",
   "metadata": {},
   "source": [
    "# We want to create an algorithm that will select the best strategy at any given datapoint based on the profitablility over the last 1 hour.\n",
    "## To do this we'll need to create many dataframes and compare them.\n",
    "##\n",
    "Do all of our imports up top"
   ]
  },
  {
   "cell_type": "code",
   "execution_count": 137,
   "metadata": {
    "collapsed": true
   },
   "outputs": [],
   "source": [
    "import numpy as np\n",
    "import os\n",
    "import pickle\n",
    "import pandas as pd\n",
    "import itertools\n",
    "import matplotlib.pyplot as plt\n",
    "import pandas.io.data as web\n",
    "%matplotlib inline"
   ]
  },
  {
   "cell_type": "code",
   "execution_count": 138,
   "metadata": {
    "collapsed": true
   },
   "outputs": [],
   "source": [
    "def get_dataframe():\n",
    "    mydata = None\n",
    "    try:\n",
    "        mydata = pickle.load(open('modelling/stats_pickle5', 'rb'))\n",
    "    except:\n",
    "        mydata = pickle.load(open('../resources/stats_pickle5', 'rb'))\n",
    "    df = pd.DataFrame(mydata, columns=[\"Time\", \"Value\"])\n",
    "    df = df.set_index('Time')\n",
    "    return df"
   ]
  },
  {
   "cell_type": "code",
   "execution_count": 143,
   "metadata": {
    "collapsed": true
   },
   "outputs": [],
   "source": [
    "class Name():\n",
    "    def __init__(self, means, sd):\n",
    "        self.mean1 = str(means[0])+\"hr\"\n",
    "        self.mean1_val = means[0]\n",
    "        self.mean2 = str(means[1])+\"hr\"\n",
    "        self.mean2_val = means[1]\n",
    "        self.name = \"{}-{}-{}\".format(self.mean1,self.mean2,sd)\n",
    "        self.sd = sd\n",
    "        self.strategy = \"Strategy-{}-%.1f\".format(self.name) % sd\n",
    "        self.regime = \"Regime-{}-%.1f\".format(self.name) % sd\n",
    "        self.cumsum = \"Cumulative-{}-%.1f\".format(self.name) % sd\n",
    "    \n",
    "    @classmethod\n",
    "    def from_strategy_name(cls, strat):\n",
    "        parts = strat.split('-')\n",
    "        return cls([p.rstrip(\"hr\") for p in parts[1:3]],float(parts[3]))"
   ]
  },
  {
   "cell_type": "code",
   "execution_count": 140,
   "metadata": {
    "collapsed": true
   },
   "outputs": [],
   "source": [
    "class StrategySelector():\n",
    "    def __init__(self, dataframe, name, means, sds):\n",
    "        self.dataframe = dataframe\n",
    "        self.current_strategy=None\n",
    "        self.means = means\n",
    "        self.create_means()\n",
    "        self.set_market()\n",
    "        self.available_stategies = [Name(means, sd) for means in list(itertools.combinations(means, 2)) for sd in SDs]\n",
    "        for name in regime_and_strategy_names:\n",
    "            self.create_diff(name)\n",
    "            self.create_regime(name)\n",
    "            self.create_strategy(name)\n",
    "    \n",
    "    def strategies(self):\n",
    "        return self.dataframe[[n.strategies for n in self.available_stategies]]\n",
    "    def create_means(self):\n",
    "        for mean in self.means:\n",
    "            self.dataframe[str(mean)+\"hr\"] = np.round(pd.rolling_mean(df['Value'], window=mean*60), 2)\n",
    "\n",
    "    def create_diff(self, name):\n",
    "            self.dataframe[name.name] = self.dataframe[name.mean1] - self.dataframe[name.mean2]\n",
    "\n",
    "    def create_regime(self, name):\n",
    "        self.dataframe[name.regime] = np.where(self.dataframe[name.name] > name.sd, 1, 0)\n",
    "        self.dataframe[name.regime] = np.where(self.dataframe[name.name] < -name.sd, -1, self.dataframe[name.regime])\n",
    "\n",
    "    def set_market(self):\n",
    "        self.dataframe['Market'] = np.log(self.dataframe['Value']/ self.dataframe['Value'].shift(1))\n",
    "        self.dataframe['Market-cumulative'] = self.dataframe['Market'].cumsum().apply(np.exp)\n",
    "\n",
    "    def create_strategy(self, name):\n",
    "        self.dataframe[name.strategy] = self.dataframe[name.regime].shift(5) * self.dataframe['Market']\n",
    "    \n",
    "    def select_on_time_performance(hours=1):\n",
    "        dataframe2= self.strategies.cumsum().apply(np.exp) - self.strategies.cumsum().apply(np.exp).shift(hours*60)\n",
    "        \n",
    "        #self.dataframe['best_{}_hours'.format(hours)] = self.dataframe[]\n",
    "        last_24 = df[-2880:][[a.strategy for a in regime_and_strategy_names]].cumsum().apply(np.exp)[-1:].transpose().sort([df.index.tolist()[-1]],ascending=[0])"
   ]
  },
  {
   "cell_type": "code",
   "execution_count": 144,
   "metadata": {
    "collapsed": false
   },
   "outputs": [],
   "source": [
    "class Dataset():\n",
    "    def __init__(self, loc):\n",
    "        mydata = None\n",
    "        try:\n",
    "            mydata = pickle.load(open('modelling/{}'.format(loc), 'rb'))\n",
    "        except:\n",
    "            mydata = pickle.load(open('../resources/{}'.format(loc), 'rb'))\n",
    "        self.dataset = pd.DataFrame(mydata, columns=[\"Time\", \"Value\"]).drop_duplicates()\n",
    "        self.dataset[\"Time\"] = pd.to_datetime(self.dataset[\"Time\"])\n",
    "        self.dataset = self.dataset.set_index('Time')\n",
    "        \n",
    "        self.dataset['Market'] = np.log(self.dataset['Value']/ self.dataset['Value'].shift(1))\n",
    "        \n",
    "        \n",
    "    \n",
    "class Strategy():\n",
    "    def __init__(self, dataset, means=None, sd=None, name=None):\n",
    "        \n",
    "        if name is None: \n",
    "            self.name = Name(means, sd)\n",
    "            cols = list(dataset.columns.values)\n",
    "            if self.name.mean1 not in cols:\n",
    "                dataset[self.name.mean1] = np.round(pd.rolling_mean(dataset['Value'], window=self.name.mean1_val*60), 2)\n",
    "            if self.name.mean2 not in cols:\n",
    "                dataset[self.name.mean2] = np.round(pd.rolling_mean(dataset['Value'], window=self.name.mean2_val*60), 2)\n",
    "\n",
    "            self.dataset = pd.DataFrame(dataset[['Market',self.name.mean1, self.name.mean2]])\n",
    "            # Find our Diff\n",
    "            self.dataset['Difference']= self.dataset[self.name.mean1] - self.dataset[self.name.mean2]\n",
    "            # Set our Regime\n",
    "            self.dataset['Regime'] = np.where(self.dataset['Difference'] > self.name.sd, 1, 0)\n",
    "            self.dataset['Regime'] = np.where(self.dataset['Difference'] < -self.name.sd, -1, self.dataset['Regime'])\n",
    "        else:\n",
    "            self.dataset = pd.DataFrame(dataset[['Market','Regime']])\n",
    "        self.dataset['Strategy'] = self.dataset['Regime'].shift(1) * self.dataset['Market']\n",
    "        self.dataset['hourly_gain'] = self.dataset['Strategy'].cumsum().apply(np.exp) - self.dataset['Strategy'].shift(60).cumsum().apply(np.exp)\n",
    "    \n"
   ]
  },
  {
   "cell_type": "code",
   "execution_count": 166,
   "metadata": {
    "collapsed": false
   },
   "outputs": [
    {
     "data": {
      "text/plain": [
       "Time\n",
       "2015-06-09 00:14:00   -1\n",
       "2015-06-09 00:15:00   -1\n",
       "2015-06-09 00:17:00   -1\n",
       "2015-06-09 00:18:00   -1\n",
       "2015-06-09 00:19:00   -1\n",
       "2015-06-09 00:20:00   -1\n",
       "2015-06-09 00:21:00   -1\n",
       "2015-06-09 00:22:00   -1\n",
       "2015-06-09 00:23:00   -1\n",
       "2015-06-09 00:25:00   -1\n",
       "2015-06-09 00:26:00   -1\n",
       "2015-06-09 00:27:00   -1\n",
       "2015-06-09 00:29:00   -1\n",
       "2015-06-09 00:30:00   -1\n",
       "2015-06-09 00:31:00   -1\n",
       "2015-06-09 00:33:00   -1\n",
       "2015-06-09 00:34:00   -1\n",
       "2015-06-09 00:35:00   -1\n",
       "2015-06-09 00:36:00   -1\n",
       "2015-06-09 00:37:00   -1\n",
       "2015-06-09 00:38:00   -1\n",
       "2015-06-09 00:39:00   -1\n",
       "2015-06-09 00:40:00   -1\n",
       "2015-06-09 00:41:00   -1\n",
       "2015-06-09 00:42:00   -1\n",
       "2015-06-09 00:43:00   -1\n",
       "2015-06-09 00:44:00   -1\n",
       "2015-06-09 00:45:00   -1\n",
       "2015-06-09 00:46:00   -1\n",
       "2015-06-09 00:47:00   -1\n",
       "                      ..\n",
       "2015-06-24 06:04:00   -1\n",
       "2015-06-24 06:05:00   -1\n",
       "2015-06-24 06:06:00   -1\n",
       "2015-06-24 06:07:00   -1\n",
       "2015-06-24 06:08:00   -1\n",
       "2015-06-24 06:09:00   -1\n",
       "2015-06-24 06:10:00   -1\n",
       "2015-06-24 06:11:00   -1\n",
       "2015-06-24 06:12:00   -1\n",
       "2015-06-24 06:13:00   -1\n",
       "2015-06-24 06:14:00   -1\n",
       "2015-06-24 06:15:00   -1\n",
       "2015-06-24 06:16:00   -1\n",
       "2015-06-24 06:17:00   -1\n",
       "2015-06-24 06:18:00   -1\n",
       "2015-06-24 06:19:00   -1\n",
       "2015-06-24 06:20:00   -1\n",
       "2015-06-24 06:21:00   -1\n",
       "2015-06-24 06:22:00   -1\n",
       "2015-06-24 06:23:00   -1\n",
       "2015-06-24 06:25:00   -1\n",
       "2015-06-24 06:26:00   -1\n",
       "2015-06-24 06:27:00   -1\n",
       "2015-06-24 06:29:00   -1\n",
       "2015-06-24 06:30:00   -1\n",
       "2015-06-24 06:31:00   -1\n",
       "2015-06-24 06:33:00   -1\n",
       "2015-06-24 06:34:00   -1\n",
       "2015-06-24 06:35:00   -1\n",
       "2015-06-24 06:36:00   -1\n",
       "Name: winning_strategy_index, dtype: int64"
      ]
     },
     "execution_count": 166,
     "metadata": {},
     "output_type": "execute_result"
    }
   ],
   "source": [
    "df = Dataset('stats_pickle5')\n",
    "means = range(3,11)\n",
    "SDs = np.arange(0.1,0.3,0.1)\n",
    "strategies = [Strategy(df.dataset, means, sd) for means in list(itertools.combinations(means, 2)) for sd in SDs]\n",
    "items = {s.name.name:s.dataset for s in strategies}\n",
    "pan = pd.Panel(items)\n",
    "\n",
    "hourly_gains = pan.transpose(2,0,1)['hourly_gain'].transpose().dropna()\n",
    "regimes = pan.transpose(2,0,1)['Regime'].transpose().dropna()\n",
    "\n",
    "regimes['winning_strategy_name'] = hourly_gains.idxmax(axis=1).dropna()\n",
    "regimes[\"winning_strategy_name\"] = np.where(pd.isnull(regimes[\"winning_strategy_name\"]), 0, regimes[\"winning_strategy_name\"])\n",
    "#regimes[\"winning_strategy_index\"] = np.where(pd.isnull(regimes[\"winning_strategy_name\"]), 0, regimes.columns.get_loc(regimes[\"winning_strategy_name\"]))\n",
    "#regimes[\"winning_strategy_index\"].value_counts()\n",
    "for name in strategies:\n",
    "    regimes[\"winning_strategy\"] = np.where(regimes['winning_strategy_name'] == name.name.name, regimes[name.name.name], 0)\n",
    "    regimes[\"winning_strategy_index\"] = np.where(regimes['winning_strategy_name'] == name.name.name, regimes.columns.tolist().index(name.name.name), -1)\n",
    "    #print(regimes.columns.get_loc(name.name.name), name.name.name)\n",
    "    #print(regimes.columns.tolist().index(name.name.name))\n",
    "\n",
    "#regimes['winning_strategy_index'].value_counts()\n",
    "df.dataset['Regime'] = regimes['winning_strategy']\n",
    "s = Strategy(df.dataset, name=\"Hourly Best\")\n",
    "regimes['winning_strategy_index']#.resample(\"H\",fill_method=\"ffill\")\n",
    "#s.dataset[['Regime']].plot()\n",
    "#s.dataset[['Strategy', 'Market']].cumsum().apply(np.exp).plot(grid=True, figsize=(20,12))\n",
    "\n",
    "\n"
   ]
  },
  {
   "cell_type": "code",
   "execution_count": null,
   "metadata": {
    "collapsed": true
   },
   "outputs": [],
   "source": []
  }
 ],
 "metadata": {
  "kernelspec": {
   "display_name": "Python 3",
   "language": "python",
   "name": "python3"
  },
  "language_info": {
   "codemirror_mode": {
    "name": "ipython",
    "version": 3
   },
   "file_extension": ".py",
   "mimetype": "text/x-python",
   "name": "python",
   "nbconvert_exporter": "python",
   "pygments_lexer": "ipython3",
   "version": "3.4.2"
  }
 },
 "nbformat": 4,
 "nbformat_minor": 0
}
