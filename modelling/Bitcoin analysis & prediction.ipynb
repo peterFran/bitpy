{
 "cells": [
  {
   "cell_type": "markdown",
   "metadata": {},
   "source": [
    "# Bitcoin Financial Modelling\n",
    "##Based of previous experimentation, I'm going to break down what I've found into classes, and explain each one individually"
   ]
  },
  {
   "cell_type": "code",
   "execution_count": null,
   "metadata": {
    "collapsed": true
   },
   "outputs": [],
   "source": [
    "import numpy as np\n",
    "import os\n",
    "import pickle\n",
    "import pandas as pd\n",
    "import itertools\n",
    "import matplotlib.pyplot as plt\n",
    "import pandas.io.data as web\n",
    "%matplotlib inline"
   ]
  },
  {
   "cell_type": "markdown",
   "metadata": {},
   "source": [
    "###Step 1: Setting up our dataset"
   ]
  },
  {
   "cell_type": "code",
   "execution_count": null,
   "metadata": {
    "collapsed": true
   },
   "outputs": [],
   "source": [
    "# This class is responsible for holding our initial pandas dataframe after we import our data from a pickled object in a file\n",
    "class Dataset():\n",
    "    def __init__(self, loc):\n",
    "        # load from file\n",
    "        mydata = None\n",
    "        try:\n",
    "            mydata = pickle.load(open('modelling/{}'.format(loc), 'rb'))\n",
    "        except:\n",
    "            mydata = pickle.load(open('../resources/{}'.format(loc), 'rb'))\n",
    "        \n",
    "        # Create the dataframe and label the columns\n",
    "        self.dataset = pd.DataFrame(mydata, columns=[\"Time\", \"Value\"]).drop_duplicates()\n",
    "        \n",
    "        # Set time as the index column. \n",
    "        # pd.to_datetime just makes the the time column pandas time dataype (easier to manipulate)\n",
    "        self.dataset[\"Time\"] = pd.to_datetime(self.dataset[\"Time\"])\n",
    "        self.dataset = self.dataset.set_index('Time')\n",
    "        \n",
    "        # Set our market change... this tells us how many percent the market has moved from the last sample datapoint.\n",
    "        self.dataset['Market'] = np.log(self.dataset['Value']/ self.dataset['Value'].shift(1))"
   ]
  },
  {
   "cell_type": "markdown",
   "metadata": {},
   "source": [
    "###Step 2: A class to create strategies"
   ]
  },
  {
   "cell_type": "code",
   "execution_count": null,
   "metadata": {
    "collapsed": false
   },
   "outputs": [],
   "source": [
    "class Strategy():\n",
    "    # Take name and a dataset\n",
    "    def __init__(self, dataset, name, stop = False):\n",
    "        self.name = name\n",
    "        # We only care about market and regime values\n",
    "        # We need to call convert convert_objects so things don't go tits up\n",
    "        self.dataset = dataset[['Market','Regime']]#.convert_objects(convert_numeric=True)\n",
    "        # Calculate the strategies taking if we don't count shorting (useful for final profit margins)\n",
    "        if stop:\n",
    "             self.dataset['Strategy'] = np.where(dataset['Regime'].shift(1) > 0, dataset['Regime'].shift(1) * dataset['Market'], 0)\n",
    "        else:\n",
    "            # Caltulate strategies if shorting is included, good for determining performance\n",
    "            self.dataset['Strategy'] = dataset['Regime'].shift(1) * dataset['Market']\n",
    "            # Work out hourly gain, I need to make this more general\n",
    "            self.dataset['hourly_gain'] = self.dataset['Strategy'].cumsum().apply(np.exp) - self.dataset['Strategy'].shift(60).cumsum().apply(np.exp)\n",
    "        self.dataset = self.dataset.convert_objects(convert_numeric=True)\n",
    "    # These are our different inits effectively.\n",
    "    # from regime is from an existing dataset with a regime already worked out\n",
    "    @classmethod\n",
    "    def from_regime(cls, dataset, name):\n",
    "        new_dataset = pd.DataFrame(dataset[['Market','Regime']])\n",
    "        return Strategy(new_dataset, name, True)\n",
    "    \n",
    "    # Return our strategy created from a couple of means and their standard deviations.\n",
    "    @classmethod\n",
    "    def from_means(cls, dataset, mean1, mean2, sd):\n",
    "        # Give it a name that makes sense\n",
    "        name = \"{}-{}-{}\".format(mean1,mean2,sd)\n",
    "        # See if the means are already in the main dataset... this is just to save on computation time.\n",
    "        cols = list(dataset.columns.values)\n",
    "        # If these means haven't mean figured out yet, then do it\n",
    "        if mean1 not in cols:\n",
    "            dataset[mean1] = np.round(pd.rolling_mean(dataset['Value'], window=mean1), 2)\n",
    "        if mean2 not in cols:\n",
    "            dataset[mean2] = np.round(pd.rolling_mean(dataset['Value'], window=mean2), 2)\n",
    "        \n",
    "        # Next lets create a new dataset to stop us from cluttering the old one\n",
    "        new_dataset = pd.DataFrame(dataset[['Market']])\n",
    "        # Work out the difference between the means\n",
    "        new_dataset['Difference']= dataset[mean1] - dataset[mean2]\n",
    "        \n",
    "        # Work out what our buy/sell regime would be with these means and this standard deviation\n",
    "        new_dataset['Regime'] = np.where(new_dataset['Difference'] > sd, 1, 0)\n",
    "        new_dataset['Regime'] = np.where(new_dataset['Difference'] < -sd, -1, new_dataset['Regime'])\n",
    "        return Strategy(new_dataset, name)"
   ]
  },
  {
   "cell_type": "markdown",
   "metadata": {},
   "source": [
    "###Step 3: Next let's create a class to work out which strategy is performing best"
   ]
  },
  {
   "cell_type": "code",
   "execution_count": null,
   "metadata": {
    "collapsed": true
   },
   "outputs": [],
   "source": [
    "class Winners():\n",
    "    def __init__(self, strategies, market_series, max_mean):\n",
    "        self.max_mean = max_mean\n",
    "        items = {s.name:s.dataset for s in strategies}\n",
    "        pan = pd.Panel(items)\n",
    "        hourly_gains = pan.transpose(2,0,1)['hourly_gain'].transpose().dropna()\n",
    "        self.dataset = pan.transpose(2,0,1)['Regime'].transpose().dropna()\n",
    "        self.dataset['Market'] = market_series\n",
    "        self.dataset['Winner'] = hourly_gains.idxmax(axis=1).dropna()\n",
    "        # Drop any lines with null in\n",
    "        self.dataset = self.dataset[self.dataset['Winner'].notnull()]\n",
    "        \n",
    "    \n",
    "    def get_strategy(self, minutes):\n",
    "        column_list = self.dataset.columns.values.tolist()\n",
    "        winners = pd.DataFrame(self.dataset.ix[self.max_mean:])\n",
    "        winners['resample'] = winners['Winner'].asfreq(pd.DateOffset(minutes=minutes))\n",
    "        winners['resample']=winners['resample'].fillna(method='pad')\n",
    "        winners['Regime'] = 0\n",
    "        for group in column_list:\n",
    "            winners[\"Regime\"] = np.where(winners['Winner'] == group,winners[group],winners[\"Regime\"])\n",
    "        return Strategy.from_regime(winners, \"{} minute\".format(minutes))\n",
    "    \n",
    "    "
   ]
  },
  {
   "cell_type": "markdown",
   "metadata": {},
   "source": [
    "###Step 4: Let's actually use these things and get some input data"
   ]
  },
  {
   "cell_type": "code",
   "execution_count": null,
   "metadata": {
    "collapsed": false
   },
   "outputs": [],
   "source": [
    "means = range(60,1500,60)\n",
    "sds = np.arange(0,1,0.1)\n",
    "dataset = Dataset('stats_pickle5')\n",
    "strategies = [Strategy.from_means(dataset.dataset, mean_tup[0],mean_tup[1], sd) for mean_tup in list(itertools.combinations(means, 2)) for sd in sds]"
   ]
  },
  {
   "cell_type": "code",
   "execution_count": null,
   "metadata": {
    "collapsed": false
   },
   "outputs": [],
   "source": [
    "w = Winners(strategies, dataset.dataset['Market'],means[-1])"
   ]
  },
  {
   "cell_type": "code",
   "execution_count": null,
   "metadata": {
    "collapsed": false
   },
   "outputs": [],
   "source": [
    "w.get_strategy(45).dataset[['Market', 'Strategy']].cumsum().apply(np.exp).plot(grid=True, figsize=(20,12))"
   ]
  },
  {
   "cell_type": "code",
   "execution_count": null,
   "metadata": {
    "collapsed": true
   },
   "outputs": [],
   "source": []
  }
 ],
 "metadata": {
  "kernelspec": {
   "display_name": "Python 3",
   "language": "python",
   "name": "python3"
  },
  "language_info": {
   "codemirror_mode": {
    "name": "ipython",
    "version": 3
   },
   "file_extension": ".py",
   "mimetype": "text/x-python",
   "name": "python",
   "nbconvert_exporter": "python",
   "pygments_lexer": "ipython3",
   "version": "3.5.0b2"
  }
 },
 "nbformat": 4,
 "nbformat_minor": 0
}
