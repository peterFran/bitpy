{
 "cells": [
  {
   "cell_type": "markdown",
   "metadata": {},
   "source": [
    "# We want to create an algorithm that will select the best strategy at any given datapoint based on the profitablility over the last 1 hour.\n",
    "## To do this we'll need to create many dataframes and compare them.\n",
    "##\n",
    "Do all of our imports up top"
   ]
  },
  {
   "cell_type": "code",
   "execution_count": null,
   "metadata": {
    "collapsed": true
   },
   "outputs": [],
   "source": [
    "import numpy as np\n",
    "import os\n",
    "import pickle\n",
    "import pandas as pd\n",
    "import itertools\n",
    "import matplotlib.pyplot as plt\n",
    "import pandas.io.data as web\n",
    "%matplotlib inline"
   ]
  },
  {
   "cell_type": "code",
   "execution_count": null,
   "metadata": {
    "collapsed": true
   },
   "outputs": [],
   "source": [
    "def get_dataframe():\n",
    "    mydata = None\n",
    "    try:\n",
    "        mydata = pickle.load(open('modelling/stats_pickle5', 'rb'))\n",
    "    except:\n",
    "        mydata = pickle.load(open('../resources/stats_pickle5', 'rb'))\n",
    "    df = pd.DataFrame(mydata, columns=[\"Time\", \"Value\"])\n",
    "    df = df.set_index('Time')\n",
    "    return df"
   ]
  },
  {
   "cell_type": "code",
   "execution_count": null,
   "metadata": {
    "collapsed": true
   },
   "outputs": [],
   "source": [
    "class Name():\n",
    "    def __init__(self, means, sd):\n",
    "        self.mean1 = str(means[0])+\"hr\"\n",
    "        self.mean1_val = means[0]\n",
    "        self.mean2 = str(means[1])+\"hr\"\n",
    "        self.mean2_val = means[1]\n",
    "        self.name = \"{}-{}-{}\".format(self.mean1,self.mean2,sd)\n",
    "        self.sd = sd\n",
    "        self.strategy = \"Strategy-{}-%.1f\".format(self.name) % sd\n",
    "        self.regime = \"Regime-{}-%.1f\".format(self.name) % sd\n",
    "        self.cumsum = \"Cumulative-{}-%.1f\".format(self.name) % sd\n",
    "    \n",
    "    @classmethod\n",
    "    def from_strategy_name(cls, strat):\n",
    "        parts = strat.split('-')\n",
    "        return cls([p.rstrip(\"hr\") for p in parts[1:3]],float(parts[3]))"
   ]
  },
  {
   "cell_type": "code",
   "execution_count": null,
   "metadata": {
    "collapsed": false
   },
   "outputs": [],
   "source": [
    "class Dataset():\n",
    "    def __init__(self, loc):\n",
    "        mydata = None\n",
    "        try:\n",
    "            mydata = pickle.load(open('./{}'.format(loc), 'rb'))\n",
    "        except:\n",
    "            mydata = pickle.load(open('../resources/{}'.format(loc), 'rb'))\n",
    "        self.dataset = pd.DataFrame(mydata, columns=[\"Time\", \"Value\"]).drop_duplicates()\n",
    "        self.dataset[\"Time\"] = pd.to_datetime(self.dataset[\"Time\"])\n",
    "        self.dataset = self.dataset.set_index('Time')\n",
    "        \n",
    "        self.dataset['Market'] = np.log(self.dataset['Value']/ self.dataset['Value'].shift(1))\n",
    "        \n",
    "        \n",
    "    \n",
    "class Strategy():\n",
    "    def __init__(self, dataset, means=None, sd=None, name=None):\n",
    "        \n",
    "        if name is None: \n",
    "            self.name = Name(means, sd)\n",
    "            cols = list(dataset.columns.values)\n",
    "            if self.name.mean1 not in cols:\n",
    "                dataset[self.name.mean1] = np.round(pd.rolling_mean(dataset['Value'], window=self.name.mean1_val*60), 2)\n",
    "            if self.name.mean2 not in cols:\n",
    "                dataset[self.name.mean2] = np.round(pd.rolling_mean(dataset['Value'], window=self.name.mean2_val*60), 2)\n",
    "\n",
    "            self.dataset = pd.DataFrame(dataset[['Market',self.name.mean1, self.name.mean2]])\n",
    "            # Find our Diff\n",
    "            self.dataset['Difference']= self.dataset[self.name.mean1] - self.dataset[self.name.mean2]\n",
    "            # Set our Regime\n",
    "            self.dataset['Regime'] = np.where(self.dataset['Difference'] > self.name.sd, 1, 0)\n",
    "            self.dataset['Regime'] = np.where(self.dataset['Difference'] < -self.name.sd, -1, self.dataset['Regime'])\n",
    "            self.dataset['Strategy'] = self.dataset['Regime'].shift(1) * self.dataset['Market']\n",
    "            self.dataset['hourly_gain'] = self.dataset['Strategy'].cumsum().apply(np.exp) - self.dataset['Strategy'].shift(60).cumsum().apply(np.exp)\n",
    "        else:\n",
    "            self.dataset = pd.DataFrame(dataset[['Market','Regime']]).convert_objects(convert_numeric=True)\n",
    "            self.dataset['Strategy'] = self.dataset['Regime'].shift(1) * self.dataset['Market']\n",
    "            self.dataset = self.dataset.convert_objects(convert_numeric=True)\n",
    "            \n",
    "        \n"
   ]
  },
  {
   "cell_type": "code",
   "execution_count": null,
   "metadata": {
    "collapsed": false
   },
   "outputs": [],
   "source": [
    "df = Dataset('stats_pickle5')\n",
    "means = range(1,10)\n",
    "SDs = np.arange(0.1,1,0.2)\n",
    "strategies = [Strategy(df.dataset, means, sd) for means in list(itertools.combinations(means, 2)) for sd in SDs]\n",
    "items = {s.name.name:s.dataset for s in strategies}\n",
    "pan = pd.Panel(items)\n",
    "\n",
    "hourly_gains = pan.transpose(2,0,1)['hourly_gain'].transpose().dropna()\n",
    "\n",
    "regimes = pan.transpose(2,0,1)['Regime'].transpose().dropna()\n",
    "\n",
    "regimes['Market'] = df.dataset['Market']\n",
    "regimes['winning_strategy_name'] = hourly_gains.idxmax(axis=1).dropna()\n",
    "# winner = regimes['winning_strategy_name'].dropna()\n",
    "regimes = regimes[regimes['winning_strategy_name'].notnull()]\n",
    "column_list = regimes.columns.values.tolist()\n",
    "column_dict = {value:index for index, value in enumerate(column_list)}\n",
    "# groups = regimes.groupby('winning_strategy_name')\n",
    "#regimes['winning_strategy_index'] = column_dict[regimes['winning_strategy_name']]\n",
    "#regimes['winning_strategy_index'] \n",
    "# winner_index = column_list[winner].index\n",
    "# winner_index\n",
    "# regimes['winning_strategy_name']\n",
    "regimes[\"winning_strategy_index\"] =  0\n",
    "# regimes.columns.tolist().index(name.name.name), -1)\n",
    "winners = pd.DataFrame(regimes.ix[1440:])\n",
    "#winners['winning_strategy_index'].value_counts()\n",
    "winners['hourly_names'] = winners['winning_strategy_name'].asfreq(pd.DateOffset(minutes=15))\n",
    "winners['hourly_names']=winners['hourly_names'].fillna(method='pad')\n",
    "winners['Regime'] = 0\n",
    "for group in column_list:\n",
    "    winners[\"Regime\"] = np.where(winners['hourly_names'] == group,winners[group],winners[\"Regime\"])\n",
    "\n",
    "s = Strategy(winners, name=\"Hourly Best\")\n",
    "s.dataset[['Market', 'Strategy']].cumsum().apply(np.exp).plot(grid=True, figsize=(20,12))\n"
   ]
  },
  {
   "cell_type": "code",
   "execution_count": null,
   "metadata": {
    "collapsed": false
   },
   "outputs": [],
   "source": [
    "strategies[80].dataset[['Market', 'Strategy']].cumsum().apply(np.exp).plot(grid=True, figsize=(20,12))"
   ]
  },
  {
   "cell_type": "code",
   "execution_count": null,
   "metadata": {
    "collapsed": true
   },
   "outputs": [],
   "source": [
    "#pickle.dump(s,open('../resources/awesome_results', 'wb'))"
   ]
  },
  {
   "cell_type": "code",
   "execution_count": null,
   "metadata": {
    "collapsed": false
   },
   "outputs": [],
   "source": [
    "import matplotlib.pyplot as plt\n",
    "\n",
    "fig, ax1 = plt.subplots()\n",
    "ax1.plot(s.dataset[['Market', 'Strategy']].cumsum().apply(np.exp))#.plot(grid=True, figsize=(20,12))\n",
    "ax2 = ax1.twinx()\n",
    "ax2.plot(s.dataset[['Regime']])\n",
    "fig.set_size_inches(20,12)\n",
    "plt.show()\n",
    "#dir(fig)"
   ]
  }
 ],
 "metadata": {
  "kernelspec": {
   "display_name": "Python 3",
   "language": "python",
   "name": "python3"
  },
  "language_info": {
   "codemirror_mode": {
    "name": "ipython",
    "version": 3
   },
   "file_extension": ".py",
   "mimetype": "text/x-python",
   "name": "python",
   "nbconvert_exporter": "python",
   "pygments_lexer": "ipython3",
   "version": "3.4.2"
  }
 },
 "nbformat": 4,
 "nbformat_minor": 0
}
